{
 "cells": [
  {
   "cell_type": "markdown",
   "id": "75c5dc88",
   "metadata": {},
   "source": [
    "# Plotting Geo Data on Map"
   ]
  },
  {
   "cell_type": "markdown",
   "id": "f7216199",
   "metadata": {},
   "source": [
    "## Introduction"
   ]
  },
  {
   "cell_type": "markdown",
   "id": "24e2409f",
   "metadata": {},
   "source": [
    "This notebook was created by [Jupyter AI](https://github.com/jupyterlab/jupyter-ai) with the following prompt:\n",
    "\n",
    "> /generate A demonstration of how you can plot geo data into a map\n"
   ]
  },
  {
   "cell_type": "markdown",
   "id": "1713fc38",
   "metadata": {},
   "source": [
    "This Jupyter notebook demonstrates how to plot geo data onto a map using libraries such as Pandas, Folium, and Geopandas. The notebook covers importing necessary libraries, loading geo data from a file or an external API, cleaning and preparing the data for plotting, creating a base map using Folium, plotting geo data onto the map, adding markers and popups for better visualization, and customizing the map with different styles, colors, and markers. The code examples provided in the notebook can help users understand the process of plotting geo data onto a map in a step-by-step manner."
   ]
  },
  {
   "cell_type": "markdown",
   "id": "26335141",
   "metadata": {},
   "source": [
    "## Loading Geo Data"
   ]
  },
  {
   "cell_type": "code",
   "execution_count": 2,
   "id": "143db1ab",
   "metadata": {
    "tags": []
   },
   "outputs": [],
   "source": [
    "import geopandas as gpd\n",
    "import requests"
   ]
  },
  {
   "cell_type": "code",
   "execution_count": 3,
   "id": "e1ac28d1",
   "metadata": {},
   "outputs": [],
   "source": [
    "# Loading geo data from a file\n",
    "geo_data = gpd.read_file('countries.geojson')"
   ]
  },
  {
   "cell_type": "code",
   "execution_count": 4,
   "id": "31f50d29",
   "metadata": {},
   "outputs": [
    {
     "name": "stdout",
     "output_type": "stream",
     "text": [
      "         ADMIN ISO_A3                                           geometry\n",
      "0        Aruba    ABW  POLYGON ((-69.99694 12.57758, -69.93639 12.531...\n",
      "1  Afghanistan    AFG  POLYGON ((71.04980 38.40866, 71.05714 38.40903...\n",
      "2       Angola    AGO  MULTIPOLYGON (((11.73752 -16.69258, 11.73851 -...\n",
      "3     Anguilla    AIA  MULTIPOLYGON (((-63.03767 18.21296, -63.09952 ...\n",
      "4      Albania    ALB  POLYGON ((19.74777 42.57890, 19.74601 42.57993...\n"
     ]
    }
   ],
   "source": [
    "# Printing the first five rows of the loaded geo data\n",
    "print(geo_data.head())"
   ]
  },
  {
   "cell_type": "markdown",
   "id": "d0ff7bfa",
   "metadata": {},
   "source": [
    "## Data Cleaning and Preparation"
   ]
  },
  {
   "cell_type": "code",
   "execution_count": 5,
   "id": "7fdf1e66",
   "metadata": {},
   "outputs": [],
   "source": [
    "# Removing any rows with missing or null values\n",
    "geo_data.dropna(inplace=True)"
   ]
  },
  {
   "cell_type": "code",
   "execution_count": 7,
   "id": "be417d5d",
   "metadata": {},
   "outputs": [
    {
     "name": "stdout",
     "output_type": "stream",
     "text": [
      "ADMIN         object\n",
      "ISO_A3        object\n",
      "geometry    geometry\n",
      "dtype: object\n"
     ]
    }
   ],
   "source": [
    "# Checking the data types of all columns\n",
    "print(geo_data.dtypes)"
   ]
  },
  {
   "cell_type": "markdown",
   "id": "4b06f9ad",
   "metadata": {},
   "source": [
    "## Creating a Base Map"
   ]
  },
  {
   "cell_type": "code",
   "execution_count": 1,
   "id": "13bc3efd",
   "metadata": {},
   "outputs": [],
   "source": [
    "import pandas as pd\n",
    "import folium"
   ]
  },
  {
   "cell_type": "code",
   "execution_count": 2,
   "id": "3ab94786",
   "metadata": {},
   "outputs": [],
   "source": [
    "base_map = folium.Map(location=[37.7749,-122.4194], zoom_start=12)"
   ]
  },
  {
   "cell_type": "code",
   "execution_count": 3,
   "id": "f909d368",
   "metadata": {},
   "outputs": [
    {
     "data": {
      "text/html": [
       "<div style=\"width:100%;\"><div style=\"position:relative;width:100%;height:0;padding-bottom:60%;\"><span style=\"color:#565656\">Make this Notebook Trusted to load map: File -> Trust Notebook</span><iframe srcdoc=\"&lt;!DOCTYPE html&gt;\n",
       "&lt;html&gt;\n",
       "&lt;head&gt;\n",
       "    \n",
       "    &lt;meta http-equiv=&quot;content-type&quot; content=&quot;text/html; charset=UTF-8&quot; /&gt;\n",
       "    \n",
       "        &lt;script&gt;\n",
       "            L_NO_TOUCH = false;\n",
       "            L_DISABLE_3D = false;\n",
       "        &lt;/script&gt;\n",
       "    \n",
       "    &lt;style&gt;html, body {width: 100%;height: 100%;margin: 0;padding: 0;}&lt;/style&gt;\n",
       "    &lt;style&gt;#map {position:absolute;top:0;bottom:0;right:0;left:0;}&lt;/style&gt;\n",
       "    &lt;script src=&quot;https://cdn.jsdelivr.net/npm/leaflet@1.9.3/dist/leaflet.js&quot;&gt;&lt;/script&gt;\n",
       "    &lt;script src=&quot;https://code.jquery.com/jquery-1.12.4.min.js&quot;&gt;&lt;/script&gt;\n",
       "    &lt;script src=&quot;https://cdn.jsdelivr.net/npm/bootstrap@5.2.2/dist/js/bootstrap.bundle.min.js&quot;&gt;&lt;/script&gt;\n",
       "    &lt;script src=&quot;https://cdnjs.cloudflare.com/ajax/libs/Leaflet.awesome-markers/2.0.2/leaflet.awesome-markers.js&quot;&gt;&lt;/script&gt;\n",
       "    &lt;link rel=&quot;stylesheet&quot; href=&quot;https://cdn.jsdelivr.net/npm/leaflet@1.9.3/dist/leaflet.css&quot;/&gt;\n",
       "    &lt;link rel=&quot;stylesheet&quot; href=&quot;https://cdn.jsdelivr.net/npm/bootstrap@5.2.2/dist/css/bootstrap.min.css&quot;/&gt;\n",
       "    &lt;link rel=&quot;stylesheet&quot; href=&quot;https://netdna.bootstrapcdn.com/bootstrap/3.0.0/css/bootstrap.min.css&quot;/&gt;\n",
       "    &lt;link rel=&quot;stylesheet&quot; href=&quot;https://cdn.jsdelivr.net/npm/@fortawesome/fontawesome-free@6.2.0/css/all.min.css&quot;/&gt;\n",
       "    &lt;link rel=&quot;stylesheet&quot; href=&quot;https://cdnjs.cloudflare.com/ajax/libs/Leaflet.awesome-markers/2.0.2/leaflet.awesome-markers.css&quot;/&gt;\n",
       "    &lt;link rel=&quot;stylesheet&quot; href=&quot;https://cdn.jsdelivr.net/gh/python-visualization/folium/folium/templates/leaflet.awesome.rotate.min.css&quot;/&gt;\n",
       "    \n",
       "            &lt;meta name=&quot;viewport&quot; content=&quot;width=device-width,\n",
       "                initial-scale=1.0, maximum-scale=1.0, user-scalable=no&quot; /&gt;\n",
       "            &lt;style&gt;\n",
       "                #map_b72252d58970d74ea4b1b9b61182c636 {\n",
       "                    position: relative;\n",
       "                    width: 100.0%;\n",
       "                    height: 100.0%;\n",
       "                    left: 0.0%;\n",
       "                    top: 0.0%;\n",
       "                }\n",
       "                .leaflet-container { font-size: 1rem; }\n",
       "            &lt;/style&gt;\n",
       "        \n",
       "&lt;/head&gt;\n",
       "&lt;body&gt;\n",
       "    \n",
       "    \n",
       "            &lt;div class=&quot;folium-map&quot; id=&quot;map_b72252d58970d74ea4b1b9b61182c636&quot; &gt;&lt;/div&gt;\n",
       "        \n",
       "&lt;/body&gt;\n",
       "&lt;script&gt;\n",
       "    \n",
       "    \n",
       "            var map_b72252d58970d74ea4b1b9b61182c636 = L.map(\n",
       "                &quot;map_b72252d58970d74ea4b1b9b61182c636&quot;,\n",
       "                {\n",
       "                    center: [37.7749, -122.4194],\n",
       "                    crs: L.CRS.EPSG3857,\n",
       "                    zoom: 12,\n",
       "                    zoomControl: true,\n",
       "                    preferCanvas: false,\n",
       "                }\n",
       "            );\n",
       "\n",
       "            \n",
       "\n",
       "        \n",
       "    \n",
       "            var tile_layer_bb3ad38f85ab23ff591e2e8dd239ac35 = L.tileLayer(\n",
       "                &quot;https://{s}.tile.openstreetmap.org/{z}/{x}/{y}.png&quot;,\n",
       "                {&quot;attribution&quot;: &quot;Data by \\u0026copy; \\u003ca target=\\&quot;_blank\\&quot; href=\\&quot;http://openstreetmap.org\\&quot;\\u003eOpenStreetMap\\u003c/a\\u003e, under \\u003ca target=\\&quot;_blank\\&quot; href=\\&quot;http://www.openstreetmap.org/copyright\\&quot;\\u003eODbL\\u003c/a\\u003e.&quot;, &quot;detectRetina&quot;: false, &quot;maxNativeZoom&quot;: 18, &quot;maxZoom&quot;: 18, &quot;minZoom&quot;: 0, &quot;noWrap&quot;: false, &quot;opacity&quot;: 1, &quot;subdomains&quot;: &quot;abc&quot;, &quot;tms&quot;: false}\n",
       "            ).addTo(map_b72252d58970d74ea4b1b9b61182c636);\n",
       "        \n",
       "&lt;/script&gt;\n",
       "&lt;/html&gt;\" style=\"position:absolute;width:100%;height:100%;left:0;top:0;border:none !important;\" allowfullscreen webkitallowfullscreen mozallowfullscreen></iframe></div></div>"
      ],
      "text/plain": [
       "<folium.folium.Map at 0x118eed360>"
      ]
     },
     "execution_count": 3,
     "metadata": {},
     "output_type": "execute_result"
    }
   ],
   "source": [
    "base_map"
   ]
  },
  {
   "cell_type": "markdown",
   "id": "ad8c57a9",
   "metadata": {},
   "source": [
    "## Plotting Geo Data on the Map"
   ]
  },
  {
   "cell_type": "code",
   "execution_count": null,
   "id": "920d24a1",
   "metadata": {},
   "outputs": [],
   "source": [
    "# Plotting the cleaned and prepared geo data onto the base map\n",
    "for index, row in geo_data.iterrows():\n",
    "    folium.Marker(location=[row['latitude'], row['longitude']], \n",
    "                  popup=row['new_column1']).add_to(base_map)"
   ]
  },
  {
   "cell_type": "code",
   "execution_count": null,
   "id": "9a661390",
   "metadata": {},
   "outputs": [],
   "source": [
    "# Displaying the base map with plotted geo data\n",
    "base_map.save(\"map.html\")"
   ]
  },
  {
   "cell_type": "markdown",
   "id": "043fae62",
   "metadata": {},
   "source": [
    "## Adding Markers and Popups to the Map"
   ]
  },
  {
   "cell_type": "code",
   "execution_count": null,
   "id": "2997593b",
   "metadata": {},
   "outputs": [],
   "source": [
    "# Adding markers and popups to the plotted geo data for better visualization"
   ]
  },
  {
   "cell_type": "code",
   "execution_count": null,
   "id": "f8077ebc",
   "metadata": {},
   "outputs": [],
   "source": [
    "# Looping through the cleaned and prepared geo data to add markers and popups\n",
    "for index, row in geo_data.iterrows():\n",
    "    # Creating a marker at the latitude and longitude of each row\n",
    "    marker = folium.Marker(location=[row['latitude'], row['longitude']])\n",
    "    # Creating a popup for each marker with the value of new_column2\n",
    "    popup = folium.Popup(str(row['new_column2']))\n",
    "    # Adding the popup to the marker\n",
    "    popup.add_to(marker)\n",
    "    # Adding the marker to the base map\n",
    "    marker.add_to(base_map)"
   ]
  },
  {
   "cell_type": "code",
   "execution_count": null,
   "id": "4b15ad22",
   "metadata": {},
   "outputs": [],
   "source": [
    "# Displaying the base map with plotted geo data and markers with popups\n",
    "base_map.save(\"map.html\")"
   ]
  },
  {
   "cell_type": "markdown",
   "id": "c091c1ca",
   "metadata": {},
   "source": [
    "## Customizing the Map"
   ]
  },
  {
   "cell_type": "code",
   "execution_count": null,
   "id": "e819d4a4",
   "metadata": {},
   "outputs": [],
   "source": [
    "# Customizing the map with different styles, colors, and markers"
   ]
  },
  {
   "cell_type": "code",
   "execution_count": null,
   "id": "6e2fe8b6",
   "metadata": {},
   "outputs": [],
   "source": [
    "# Changing the base map style to a different one\n",
    "base_map = folium.Map(location=[37.7749,-122.4194], zoom_start=12, tiles='Stamen Terrain')"
   ]
  },
  {
   "cell_type": "code",
   "execution_count": null,
   "id": "6d7958b1",
   "metadata": {},
   "outputs": [],
   "source": [
    "# Changing the color of the markers to blue\n",
    "for index, row in geo_data.iterrows():\n",
    "    folium.Marker(location=[row['latitude'], row['longitude']], \n",
    "                  popup=row['new_column1'], icon=folium.Icon(color='blue')).add_to(base_map)"
   ]
  },
  {
   "cell_type": "code",
   "execution_count": null,
   "id": "5bc003ff",
   "metadata": {},
   "outputs": [],
   "source": [
    "# Adding a HeatMap layer to the map for better visualization of density\n",
    "heat_data = [[row['latitude'],row['longitude']] for index, row in geo_data.iterrows()]\n",
    "HeatMap(heat_data).add_to(base_map)"
   ]
  },
  {
   "cell_type": "code",
   "execution_count": null,
   "id": "41c509c2",
   "metadata": {},
   "outputs": [],
   "source": [
    "# Displaying the customized map with different styles, colors, and markers\n",
    "base_map.save(\"map.html\")"
   ]
  }
 ],
 "metadata": {
  "kernelspec": {
   "display_name": "Python 3 (ipykernel)",
   "language": "python",
   "name": "python3"
  },
  "language_info": {
   "codemirror_mode": {
    "name": "ipython",
    "version": 3
   },
   "file_extension": ".py",
   "mimetype": "text/x-python",
   "name": "python",
   "nbconvert_exporter": "python",
   "pygments_lexer": "ipython3",
   "version": "3.10.10"
  }
 },
 "nbformat": 4,
 "nbformat_minor": 5
}
